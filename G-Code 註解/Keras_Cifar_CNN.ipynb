{
  "nbformat": 4,
  "nbformat_minor": 0,
  "metadata": {
    "colab": {
      "name": "Keras_Cifar_CNN.ipynb",
      "version": "0.3.2",
      "provenance": [],
      "include_colab_link": true
    },
    "kernelspec": {
      "name": "python3",
      "display_name": "Python 3"
    }
  },
  "cells": [
    {
      "cell_type": "markdown",
      "metadata": {
        "id": "view-in-github",
        "colab_type": "text"
      },
      "source": [
        "<a href=\"https://colab.research.google.com/github/aqz84167/AI-and-Security/blob/master/G-Code%20%E8%A8%BB%E8%A7%A3/Keras_Cifar_CNN.ipynb\" target=\"_parent\"><img src=\"https://colab.research.google.com/assets/colab-badge.svg\" alt=\"Open In Colab\"/></a>"
      ]
    },
    {
      "metadata": {
        "id": "7pphhyYLvE1a",
        "colab_type": "text"
      },
      "cell_type": "markdown",
      "source": [
        "#### Import Library"
      ]
    },
    {
      "metadata": {
        "id": "XygcyIeQu-0n",
        "colab_type": "code",
        "colab": {}
      },
      "cell_type": "code",
      "source": [
        "from keras.datasets import cifar10\n",
        "import numpy as np\n",
        "np.random.seed(10)"
      ],
      "execution_count": 0,
      "outputs": []
    },
    {
      "metadata": {
        "id": "ywieUvnRvPZH",
        "colab_type": "text"
      },
      "cell_type": "markdown",
      "source": [
        "#### load data 加載數據"
      ]
    },
    {
      "metadata": {
        "id": "QIwFRjGRvaer",
        "colab_type": "code",
        "colab": {
          "base_uri": "https://localhost:8080/",
          "height": 52
        },
        "outputId": "0a502252-e7cd-46c8-8679-3454312f8d51"
      },
      "cell_type": "code",
      "source": [
        "(x_img_train,y_label_train),(x_img_test,y_label_test)=cifar10.load_data()"
      ],
      "execution_count": 18,
      "outputs": [
        {
          "output_type": "stream",
          "text": [
            "Downloading data from https://www.cs.toronto.edu/~kriz/cifar-10-python.tar.gz\n",
            "170500096/170498071 [==============================] - 38s 0us/step\n"
          ],
          "name": "stdout"
        }
      ]
    },
    {
      "metadata": {
        "id": "8RsaUarfvqqB",
        "colab_type": "text"
      },
      "cell_type": "markdown",
      "source": [
        " #### Cifar-10 資料集包含訓練集 50000 筆, 測試集 10000 筆. 其中圖片是以三維陣列儲存的 32x32 解析度的 RGB 三原色數字影像, 索引存取方式為 [i][j][k], 第一維 i 表示圖片編號, 範圍 0~49999 共 5 萬張; 第二維 j 表示圖片的畫素列編號, 範圍 0~31 共 32 列, 第 3 維 k 代表行編號, 實際上儲存的是每一個畫素的 RGB 三原色的 1x3 行向量, 每一種顏色數值範圍 0~255."
      ]
    },
    {
      "metadata": {
        "id": "NiUWZRKGvqGG",
        "colab_type": "code",
        "colab": {
          "base_uri": "https://localhost:8080/",
          "height": 52
        },
        "outputId": "171bd836-d80b-4c18-d834-a7ff31b1cee2"
      },
      "cell_type": "code",
      "source": [
        "print(\"train data:\",'images:',x_img_train.shape,       #顯示訓練集圖片之 shape\n",
        "      \" labels:\",y_label_train.shape)                  #顯示訓練集圖片之 shape\n",
        "print(\"test  data:\",'images:',x_img_test.shape ,       #測試集標籤為5萬筆 0~9 數字\n",
        "      \" labels:\",y_label_test.shape)                   #測試集標籤為1萬筆 0~9 數字"
      ],
      "execution_count": 19,
      "outputs": [
        {
          "output_type": "stream",
          "text": [
            "train data: images: (50000, 32, 32, 3)  labels: (50000, 1)\n",
            "test  data: images: (10000, 32, 32, 3)  labels: (10000, 1)\n"
          ],
          "name": "stdout"
        }
      ]
    },
    {
      "metadata": {
        "id": "tG7Zr4KfxItU",
        "colab_type": "text"
      },
      "cell_type": "markdown",
      "source": [
        "#### 將輸入從0-255標準化為0.0-1.0 , 數據作為整數加載，必須將其轉換為浮點值才能執行除法"
      ]
    },
    {
      "metadata": {
        "id": "OnfvQ_SYxJD-",
        "colab_type": "code",
        "colab": {}
      },
      "cell_type": "code",
      "source": [
        "x_img_train_normalize = x_img_train.astype('float32') / 255.0\n",
        "x_img_test_normalize = x_img_test.astype('float32') / 255.0"
      ],
      "execution_count": 0,
      "outputs": []
    },
    {
      "metadata": {
        "id": "uhZKO8RpxTJp",
        "colab_type": "text"
      },
      "cell_type": "markdown",
      "source": [
        "####標籤的預處理對於類別型變數而言其實就是進行 Onehot (獨熱) 編碼"
      ]
    },
    {
      "metadata": {
        "id": "jFjaVDryxTqk",
        "colab_type": "code",
        "colab": {}
      },
      "cell_type": "code",
      "source": [
        "from keras.utils import np_utils\n",
        "y_label_train_OneHot = np_utils.to_categorical(y_label_train)   #訓練集標籤\n",
        "y_label_test_OneHot = np_utils.to_categorical(y_label_test)     #測試集標籤"
      ],
      "execution_count": 0,
      "outputs": []
    },
    {
      "metadata": {
        "id": "HPxLVCaFxtwg",
        "colab_type": "code",
        "colab": {
          "base_uri": "https://localhost:8080/",
          "height": 35
        },
        "outputId": "4b64eb38-d994-4d44-eac7-61d72970f989"
      },
      "cell_type": "code",
      "source": [
        "y_label_test_OneHot.shape"
      ],
      "execution_count": 22,
      "outputs": [
        {
          "output_type": "execute_result",
          "data": {
            "text/plain": [
              "(10000, 10)"
            ]
          },
          "metadata": {
            "tags": []
          },
          "execution_count": 22
        }
      ]
    },
    {
      "metadata": {
        "id": "d7gg9BvdWcIE",
        "colab_type": "text"
      },
      "cell_type": "markdown",
      "source": [
        "#### 建立模型"
      ]
    },
    {
      "metadata": {
        "id": "2SBi-pBAWcZn",
        "colab_type": "code",
        "colab": {}
      },
      "cell_type": "code",
      "source": [
        "from keras.models import Sequential\n",
        "from keras.layers import Dense, Dropout, Activation, Flatten\n",
        "from keras.layers import Conv2D, MaxPooling2D, ZeroPadding2D"
      ],
      "execution_count": 0,
      "outputs": []
    },
    {
      "metadata": {
        "id": "maU00agHZ7G6",
        "colab_type": "text"
      },
      "cell_type": "markdown",
      "source": [
        "#### 最簡單的線性、從頭到尾的結構順序，不分叉"
      ]
    },
    {
      "metadata": {
        "id": "c4X7cqFuZ9YY",
        "colab_type": "code",
        "colab": {}
      },
      "cell_type": "code",
      "source": [
        "model = Sequential()"
      ],
      "execution_count": 0,
      "outputs": []
    },
    {
      "metadata": {
        "id": "qzmc88JsaE3l",
        "colab_type": "text"
      },
      "cell_type": "markdown",
      "source": [
        "#### 建立線性堆疊模型, 加入兩層卷積 (丟棄 25% 神經元) + 池化層 :\n",
        "(卷積層1)"
      ]
    },
    {
      "metadata": {
        "id": "DDdHYBsgaPd2",
        "colab_type": "code",
        "colab": {}
      },
      "cell_type": "code",
      "source": [
        "model.add(Conv2D(filters=32,kernel_size=(3,3),\n",
        "                 input_shape=(32, 32,3), \n",
        "                 activation='relu', \n",
        "                 padding='same'))"
      ],
      "execution_count": 0,
      "outputs": []
    },
    {
      "metadata": {
        "id": "eby01HGkacpB",
        "colab_type": "code",
        "colab": {}
      },
      "cell_type": "code",
      "source": [
        "model.add(Dropout(rate=0.25))"
      ],
      "execution_count": 0,
      "outputs": []
    },
    {
      "metadata": {
        "id": "spI3P8Kpaddd",
        "colab_type": "code",
        "colab": {}
      },
      "cell_type": "code",
      "source": [
        "model.add(MaxPooling2D(pool_size=(2, 2)))"
      ],
      "execution_count": 0,
      "outputs": []
    },
    {
      "metadata": {
        "id": "oF1x6ty-deR4",
        "colab_type": "text"
      },
      "cell_type": "markdown",
      "source": [
        "####卷積層2與池化層2"
      ]
    },
    {
      "metadata": {
        "id": "2a1P0LaUdhAS",
        "colab_type": "code",
        "colab": {}
      },
      "cell_type": "code",
      "source": [
        "model.add(Conv2D(filters=64, kernel_size=(3, 3), \n",
        "                 activation='relu', padding='same'))"
      ],
      "execution_count": 0,
      "outputs": []
    },
    {
      "metadata": {
        "id": "DXaMJFXNdl1x",
        "colab_type": "code",
        "colab": {}
      },
      "cell_type": "code",
      "source": [
        "model.add(Dropout(0.25))"
      ],
      "execution_count": 0,
      "outputs": []
    },
    {
      "metadata": {
        "id": "noTBagL5dnl2",
        "colab_type": "code",
        "colab": {}
      },
      "cell_type": "code",
      "source": [
        "model.add(MaxPooling2D(pool_size=(2, 2)))"
      ],
      "execution_count": 0,
      "outputs": []
    },
    {
      "metadata": {
        "id": "RVVFu7cPdqEl",
        "colab_type": "text"
      },
      "cell_type": "markdown",
      "source": [
        "#### 建立分類模型 (MLP) : 平坦層 + 隱藏層 (1024 神經元) + 輸出層 (10 神經元)"
      ]
    },
    {
      "metadata": {
        "id": "xiCKFS-WdtOP",
        "colab_type": "code",
        "colab": {}
      },
      "cell_type": "code",
      "source": [
        "model.add(Flatten())\n",
        "model.add(Dropout(rate=0.25))"
      ],
      "execution_count": 0,
      "outputs": []
    },
    {
      "metadata": {
        "id": "kJr5vaTMdv51",
        "colab_type": "code",
        "colab": {}
      },
      "cell_type": "code",
      "source": [
        "model.add(Dense(1024, activation='relu'))\n",
        "model.add(Dropout(rate=0.25))"
      ],
      "execution_count": 0,
      "outputs": []
    },
    {
      "metadata": {
        "id": "rTpCcP0zdwo9",
        "colab_type": "code",
        "colab": {}
      },
      "cell_type": "code",
      "source": [
        "model.add(Dense(10, activation='softmax'))"
      ],
      "execution_count": 0,
      "outputs": []
    },
    {
      "metadata": {
        "id": "uC-HjC4mdzSC",
        "colab_type": "code",
        "colab": {
          "base_uri": "https://localhost:8080/",
          "height": 537
        },
        "outputId": "9bc27b61-7c48-4abd-88ab-3a060c04df2d"
      },
      "cell_type": "code",
      "source": [
        "print(model.summary())"
      ],
      "execution_count": 34,
      "outputs": [
        {
          "output_type": "stream",
          "text": [
            "_________________________________________________________________\n",
            "Layer (type)                 Output Shape              Param #   \n",
            "=================================================================\n",
            "conv2d_3 (Conv2D)            (None, 32, 32, 32)        896       \n",
            "_________________________________________________________________\n",
            "dropout_5 (Dropout)          (None, 32, 32, 32)        0         \n",
            "_________________________________________________________________\n",
            "max_pooling2d_3 (MaxPooling2 (None, 16, 16, 32)        0         \n",
            "_________________________________________________________________\n",
            "conv2d_4 (Conv2D)            (None, 16, 16, 64)        18496     \n",
            "_________________________________________________________________\n",
            "dropout_6 (Dropout)          (None, 16, 16, 64)        0         \n",
            "_________________________________________________________________\n",
            "max_pooling2d_4 (MaxPooling2 (None, 8, 8, 64)          0         \n",
            "_________________________________________________________________\n",
            "flatten_2 (Flatten)          (None, 4096)              0         \n",
            "_________________________________________________________________\n",
            "dropout_7 (Dropout)          (None, 4096)              0         \n",
            "_________________________________________________________________\n",
            "dense_3 (Dense)              (None, 1024)              4195328   \n",
            "_________________________________________________________________\n",
            "dropout_8 (Dropout)          (None, 1024)              0         \n",
            "_________________________________________________________________\n",
            "dense_4 (Dense)              (None, 10)                10250     \n",
            "=================================================================\n",
            "Total params: 4,224,970\n",
            "Trainable params: 4,224,970\n",
            "Non-trainable params: 0\n",
            "_________________________________________________________________\n",
            "None\n"
          ],
          "name": "stdout"
        }
      ]
    },
    {
      "metadata": {
        "id": "t_YNhIGxeSac",
        "colab_type": "text"
      },
      "cell_type": "markdown",
      "source": [
        "####載入之前訓練的模型"
      ]
    },
    {
      "metadata": {
        "id": "u7SZqsL3eVrF",
        "colab_type": "code",
        "colab": {
          "base_uri": "https://localhost:8080/",
          "height": 35
        },
        "outputId": "9f4caaa8-5b07-4931-df05-d3ecee78f1ed"
      },
      "cell_type": "code",
      "source": [
        "try:\n",
        "    model.load_weights(\"SaveModel/cifarCnnModelnew1.h5\")\n",
        "    print(\"載入模型成功!繼續訓練模型\")\n",
        "except :    \n",
        "    print(\"載入模型失敗!開始訓練一個新模型\")"
      ],
      "execution_count": 35,
      "outputs": [
        {
          "output_type": "stream",
          "text": [
            "載入模型失敗!開始訓練一個新模型\n"
          ],
          "name": "stdout"
        }
      ]
    },
    {
      "metadata": {
        "id": "EmUZ79a5m5mx",
        "colab_type": "text"
      },
      "cell_type": "markdown",
      "source": [
        "####訓練模型"
      ]
    },
    {
      "metadata": {
        "id": "heLlWfFlfkaE",
        "colab_type": "code",
        "colab": {}
      },
      "cell_type": "code",
      "source": [
        "model.compile(loss='categorical_crossentropy',\n",
        "              optimizer='adam', metrics=['accuracy'])"
      ],
      "execution_count": 0,
      "outputs": []
    },
    {
      "metadata": {
        "id": "SdkxaX8XfqHf",
        "colab_type": "code",
        "colab": {
          "base_uri": "https://localhost:8080/",
          "height": 381
        },
        "outputId": "c4df767d-64a0-446f-f1ce-c4a6f9d36c88"
      },
      "cell_type": "code",
      "source": [
        "train_history=model.fit(x_img_train_normalize, y_label_train_OneHot,\n",
        "                        validation_split=0.2,\n",
        "                        epochs=10, batch_size=128, verbose=1)"
      ],
      "execution_count": 37,
      "outputs": [
        {
          "output_type": "stream",
          "text": [
            "Train on 40000 samples, validate on 10000 samples\n",
            "Epoch 1/10\n",
            "40000/40000 [==============================] - 159s 4ms/step - loss: 1.5020 - acc: 0.4594 - val_loss: 1.2839 - val_acc: 0.5789\n",
            "Epoch 2/10\n",
            "40000/40000 [==============================] - 158s 4ms/step - loss: 1.1383 - acc: 0.5946 - val_loss: 1.1032 - val_acc: 0.6383\n",
            "Epoch 3/10\n",
            "40000/40000 [==============================] - 159s 4ms/step - loss: 0.9834 - acc: 0.6541 - val_loss: 1.0102 - val_acc: 0.6680\n",
            "Epoch 4/10\n",
            "40000/40000 [==============================] - 159s 4ms/step - loss: 0.8767 - acc: 0.6891 - val_loss: 0.9495 - val_acc: 0.6932\n",
            "Epoch 5/10\n",
            "40000/40000 [==============================] - 160s 4ms/step - loss: 0.7873 - acc: 0.7213 - val_loss: 0.8948 - val_acc: 0.6991\n",
            "Epoch 6/10\n",
            "40000/40000 [==============================] - 160s 4ms/step - loss: 0.7037 - acc: 0.7528 - val_loss: 0.8254 - val_acc: 0.7285\n",
            "Epoch 7/10\n",
            "40000/40000 [==============================] - 160s 4ms/step - loss: 0.6277 - acc: 0.7792 - val_loss: 0.8273 - val_acc: 0.7198\n",
            "Epoch 8/10\n",
            "40000/40000 [==============================] - 159s 4ms/step - loss: 0.5563 - acc: 0.8056 - val_loss: 0.7749 - val_acc: 0.7460\n",
            "Epoch 9/10\n",
            "40000/40000 [==============================] - 161s 4ms/step - loss: 0.4870 - acc: 0.8284 - val_loss: 0.7859 - val_acc: 0.7316\n",
            "Epoch 10/10\n",
            "40000/40000 [==============================] - 158s 4ms/step - loss: 0.4326 - acc: 0.8479 - val_loss: 0.7560 - val_acc: 0.7454\n"
          ],
          "name": "stdout"
        }
      ]
    },
    {
      "metadata": {
        "id": "3tmPWQaUnLcv",
        "colab_type": "text"
      },
      "cell_type": "markdown",
      "source": [
        "####繪製訓練結果"
      ]
    },
    {
      "metadata": {
        "id": "KFB23y7InBGc",
        "colab_type": "code",
        "colab": {}
      },
      "cell_type": "code",
      "source": [
        "import matplotlib.pyplot as plt\n",
        "def show_train_history(train_acc,test_acc):\n",
        "    plt.plot(train_history.history[train_acc])\n",
        "    plt.plot(train_history.history[test_acc])\n",
        "    plt.title('Train History')\n",
        "    plt.ylabel('Accuracy')\n",
        "    plt.xlabel('Epoch')\n",
        "    plt.legend(['train', 'test'], loc='upper left')\n",
        "    plt.show()"
      ],
      "execution_count": 0,
      "outputs": []
    },
    {
      "metadata": {
        "id": "kgtP50PLnPY1",
        "colab_type": "code",
        "colab": {
          "base_uri": "https://localhost:8080/",
          "height": 377
        },
        "outputId": "124f3967-7f8d-4b96-8206-b740083a6693"
      },
      "cell_type": "code",
      "source": [
        "show_train_history('acc','val_acc') #訓練成功"
      ],
      "execution_count": 39,
      "outputs": [
        {
          "output_type": "display_data",
          "data": {
            "image/png": "[encoded data removed]",
            "text/plain": [
              "<matplotlib.figure.Figure at 0x7fa85b328cf8>"
            ]
          },
          "metadata": {
            "tags": []
          }
        }
      ]
    },
    {
      "metadata": {
        "id": "bYE34qUAnUK8",
        "colab_type": "code",
        "colab": {
          "base_uri": "https://localhost:8080/",
          "height": 377
        },
        "outputId": "bc987919-880d-4e36-91d3-251bbf12d340"
      },
      "cell_type": "code",
      "source": [
        "show_train_history('loss','val_loss')  #訓練失敗"
      ],
      "execution_count": 40,
      "outputs": [
        {
          "output_type": "display_data",
          "data": {
            "image/png": "[encoded data removed]",
            "text/plain": [
              "<matplotlib.figure.Figure at 0x7fa85b2a2390>"
            ]
          },
          "metadata": {
            "tags": []
          }
        }
      ]
    },
    {
      "metadata": {
        "id": "N7XeIxYWqbW9",
        "colab_type": "text"
      },
      "cell_type": "markdown",
      "source": [
        "####評估模型準確率"
      ]
    },
    {
      "metadata": {
        "id": "pawD5HBiqhTy",
        "colab_type": "code",
        "colab": {
          "base_uri": "https://localhost:8080/",
          "height": 35
        },
        "outputId": "dbc97c6c-6618-4d5c-b9af-9fc479916985"
      },
      "cell_type": "code",
      "source": [
        "scores = model.evaluate(x_img_test_normalize, \n",
        "                        y_label_test_OneHot, verbose=0)\n",
        "scores[1]"
      ],
      "execution_count": 41,
      "outputs": [
        {
          "output_type": "execute_result",
          "data": {
            "text/plain": [
              "0.7386"
            ]
          },
          "metadata": {
            "tags": []
          },
          "execution_count": 41
        }
      ]
    },
    {
      "metadata": {
        "id": "YajXsBgnqpmk",
        "colab_type": "text"
      },
      "cell_type": "markdown",
      "source": [
        "#### 進行預測"
      ]
    },
    {
      "metadata": {
        "id": "2yZJGAMUqr9V",
        "colab_type": "code",
        "colab": {}
      },
      "cell_type": "code",
      "source": [
        "prediction=model.predict_classes(x_img_test_normalize)"
      ],
      "execution_count": 0,
      "outputs": []
    },
    {
      "metadata": {
        "id": "9nMn5JxxrGR5",
        "colab_type": "code",
        "colab": {
          "base_uri": "https://localhost:8080/",
          "height": 35
        },
        "outputId": "6f791e52-bed3-4574-863c-4feead0e974e"
      },
      "cell_type": "code",
      "source": [
        "prediction[:10]"
      ],
      "execution_count": 44,
      "outputs": [
        {
          "output_type": "execute_result",
          "data": {
            "text/plain": [
              "array([3, 8, 8, 0, 6, 6, 1, 6, 3, 1])"
            ]
          },
          "metadata": {
            "tags": []
          },
          "execution_count": 44
        }
      ]
    },
    {
      "metadata": {
        "id": "MA5B2AoXrN2E",
        "colab_type": "text"
      },
      "cell_type": "markdown",
      "source": [
        "#### 查看預測結果"
      ]
    },
    {
      "metadata": {
        "id": "kd4ByLY-rRcH",
        "colab_type": "code",
        "colab": {}
      },
      "cell_type": "code",
      "source": [
        "label_dict={0:\"airplane\",1:\"automobile\",2:\"bird\",3:\"cat\",4:\"deer\",\n",
        "            5:\"dog\",6:\"frog\",7:\"horse\",8:\"ship\",9:\"truck\"}"
      ],
      "execution_count": 0,
      "outputs": []
    },
    {
      "metadata": {
        "id": "BPmsllnNrUac",
        "colab_type": "code",
        "colab": {}
      },
      "cell_type": "code",
      "source": [
        "import matplotlib.pyplot as plt\n",
        "def plot_images_labels_prediction(images,labels,prediction,\n",
        "                                  idx,num=10):\n",
        "    fig = plt.gcf()\n",
        "    fig.set_size_inches(12, 14)\n",
        "    if num>25: num=25 \n",
        "    for i in range(0, num):\n",
        "        ax=plt.subplot(5,5, 1+i)\n",
        "        ax.imshow(images[idx],cmap='binary')\n",
        "                \n",
        "        title=str(i)+','+label_dict[labels[i][0]]\n",
        "        if len(prediction)>0:\n",
        "            title+='=>'+label_dict[prediction[i]]\n",
        "            \n",
        "        ax.set_title(title,fontsize=10) \n",
        "        ax.set_xticks([]);ax.set_yticks([])        \n",
        "        idx+=1 \n",
        "    plt.show()"
      ],
      "execution_count": 0,
      "outputs": []
    },
    {
      "metadata": {
        "id": "S7DjJbiErXcc",
        "colab_type": "code",
        "colab": {
          "base_uri": "https://localhost:8080/",
          "height": 319
        },
        "outputId": "307cdf05-7c35-40be-aa33-806ef4b58cdb"
      },
      "cell_type": "code",
      "source": [
        "plot_images_labels_prediction(x_img_test,y_label_test,\n",
        "                              prediction,0,10)"
      ],
      "execution_count": 47,
      "outputs": [
        {
          "output_type": "display_data",
          "data": {
            "image/png": "[encoded data removed]",
            "text/plain": [
              "<matplotlib.figure.Figure at 0x7fa8591df4a8>"
            ]
          },
          "metadata": {
            "tags": []
          }
        }
      ]
    },
    {
      "metadata": {
        "id": "VrHR5EAmuytC",
        "colab_type": "text"
      },
      "cell_type": "markdown",
      "source": [
        "#### 查看預測機率"
      ]
    },
    {
      "metadata": {
        "id": "bW297Pwuu04P",
        "colab_type": "code",
        "colab": {}
      },
      "cell_type": "code",
      "source": [
        "Predicted_Probability=model.predict(x_img_test_normalize)"
      ],
      "execution_count": 0,
      "outputs": []
    },
    {
      "metadata": {
        "id": "OLEZPO2Du2q8",
        "colab_type": "code",
        "colab": {}
      },
      "cell_type": "code",
      "source": [
        "def show_Predicted_Probability(y,prediction,\n",
        "                               x_img,Predicted_Probability,i):\n",
        "    print('label:',label_dict[y[i][0]],\n",
        "          'predict:',label_dict[prediction[i]])\n",
        "    plt.figure(figsize=(2,2))\n",
        "    plt.imshow(np.reshape(x_img_test[i],(32, 32,3)))\n",
        "    plt.show()\n",
        "    for j in range(10):\n",
        "        print(label_dict[j]+\n",
        "              ' Probability:%1.9f'%(Predicted_Probability[i][j]))"
      ],
      "execution_count": 0,
      "outputs": []
    },
    {
      "metadata": {
        "id": "T93fObstu4Zm",
        "colab_type": "code",
        "colab": {
          "base_uri": "https://localhost:8080/",
          "height": 350
        },
        "outputId": "4f23cccd-98f6-4040-f2ca-ca3f147ba5e7"
      },
      "cell_type": "code",
      "source": [
        "show_Predicted_Probability(y_label_test,prediction,\n",
        "                           x_img_test,Predicted_Probability,0)"
      ],
      "execution_count": 50,
      "outputs": [
        {
          "output_type": "stream",
          "text": [
            "label: cat predict: cat\n"
          ],
          "name": "stdout"
        },
        {
          "output_type": "display_data",
          "data": {
            "image/png": "[encoded data removed]",
            "text/plain": [
              "<matplotlib.figure.Figure at 0x7fa8587bd550>"
            ]
          },
          "metadata": {
            "tags": []
          }
        },
        {
          "output_type": "stream",
          "text": [
            "airplane Probability:0.003362732\n",
            "automobile Probability:0.001905900\n",
            "bird Probability:0.005802602\n",
            "cat Probability:0.638307273\n",
            "deer Probability:0.005415224\n",
            "dog Probability:0.292913109\n",
            "frog Probability:0.028793929\n",
            "horse Probability:0.003178104\n",
            "ship Probability:0.018186573\n",
            "truck Probability:0.002134506\n"
          ],
          "name": "stdout"
        }
      ]
    },
    {
      "metadata": {
        "id": "3Qcm3FEnv6Op",
        "colab_type": "code",
        "colab": {
          "base_uri": "https://localhost:8080/",
          "height": 350
        },
        "outputId": "8e99a0dd-7ba1-4d0b-8482-ded445a79dd1"
      },
      "cell_type": "code",
      "source": [
        "show_Predicted_Probability(y_label_test,prediction,\n",
        "                           x_img_test,Predicted_Probability,3)"
      ],
      "execution_count": 51,
      "outputs": [
        {
          "output_type": "stream",
          "text": [
            "label: airplane predict: airplane\n"
          ],
          "name": "stdout"
        },
        {
          "output_type": "display_data",
          "data": {
            "image/png": "[encoded data removed]",
            "text/plain": [
              "<matplotlib.figure.Figure at 0x7fa85875c080>"
            ]
          },
          "metadata": {
            "tags": []
          }
        },
        {
          "output_type": "stream",
          "text": [
            "airplane Probability:0.529000640\n",
            "automobile Probability:0.010225859\n",
            "bird Probability:0.104856588\n",
            "cat Probability:0.004399939\n",
            "deer Probability:0.010628408\n",
            "dog Probability:0.000137324\n",
            "frog Probability:0.000388177\n",
            "horse Probability:0.000228894\n",
            "ship Probability:0.339405119\n",
            "truck Probability:0.000728958\n"
          ],
          "name": "stdout"
        }
      ]
    },
    {
      "metadata": {
        "id": "ytHxG75Mv9ky",
        "colab_type": "text"
      },
      "cell_type": "markdown",
      "source": [
        "#### confusion matrix"
      ]
    },
    {
      "metadata": {
        "id": "SuqqF3PiwDb3",
        "colab_type": "code",
        "colab": {
          "base_uri": "https://localhost:8080/",
          "height": 35
        },
        "outputId": "195e22ab-1478-40bc-89ef-8610b5c3c094"
      },
      "cell_type": "code",
      "source": [
        "prediction.shape"
      ],
      "execution_count": 52,
      "outputs": [
        {
          "output_type": "execute_result",
          "data": {
            "text/plain": [
              "(10000,)"
            ]
          },
          "metadata": {
            "tags": []
          },
          "execution_count": 52
        }
      ]
    },
    {
      "metadata": {
        "id": "BWpjwoSmwGnp",
        "colab_type": "code",
        "colab": {
          "base_uri": "https://localhost:8080/",
          "height": 35
        },
        "outputId": "2ef208d0-4f12-4d17-bbeb-698c63e6c311"
      },
      "cell_type": "code",
      "source": [
        "y_label_test.shape"
      ],
      "execution_count": 53,
      "outputs": [
        {
          "output_type": "execute_result",
          "data": {
            "text/plain": [
              "(10000, 1)"
            ]
          },
          "metadata": {
            "tags": []
          },
          "execution_count": 53
        }
      ]
    },
    {
      "metadata": {
        "id": "njPOQC2RwILO",
        "colab_type": "code",
        "colab": {
          "base_uri": "https://localhost:8080/",
          "height": 139
        },
        "outputId": "a683ae03-b91d-4b74-87f1-672b1915a590"
      },
      "cell_type": "code",
      "source": [
        "y_label_test"
      ],
      "execution_count": 54,
      "outputs": [
        {
          "output_type": "execute_result",
          "data": {
            "text/plain": [
              "array([[3],\n",
              "       [8],\n",
              "       [8],\n",
              "       ...,\n",
              "       [5],\n",
              "       [1],\n",
              "       [7]])"
            ]
          },
          "metadata": {
            "tags": []
          },
          "execution_count": 54
        }
      ]
    },
    {
      "metadata": {
        "id": "iniq8I6gwKIt",
        "colab_type": "code",
        "colab": {
          "base_uri": "https://localhost:8080/",
          "height": 35
        },
        "outputId": "9c8a72bf-1657-426b-dca9-69c9eaf985b5"
      },
      "cell_type": "code",
      "source": [
        "y_label_test.reshape(-1)"
      ],
      "execution_count": 55,
      "outputs": [
        {
          "output_type": "execute_result",
          "data": {
            "text/plain": [
              "array([3, 8, 8, ..., 5, 1, 7])"
            ]
          },
          "metadata": {
            "tags": []
          },
          "execution_count": 55
        }
      ]
    },
    {
      "metadata": {
        "id": "rjaG6mPNwNAO",
        "colab_type": "code",
        "colab": {
          "base_uri": "https://localhost:8080/",
          "height": 403
        },
        "outputId": "653dfd7d-0aa5-48e6-d66a-31d90ca5dfae"
      },
      "cell_type": "code",
      "source": [
        "import pandas as pd\n",
        "print(label_dict)\n",
        "pd.crosstab(y_label_test.reshape(-1),prediction,\n",
        "            rownames=['label'],colnames=['predict'])"
      ],
      "execution_count": 56,
      "outputs": [
        {
          "output_type": "stream",
          "text": [
            "{0: 'airplane', 1: 'automobile', 2: 'bird', 3: 'cat', 4: 'deer', 5: 'dog', 6: 'frog', 7: 'horse', 8: 'ship', 9: 'truck'}\n"
          ],
          "name": "stdout"
        },
        {
          "output_type": "execute_result",
          "data": {
            "text/html": [
              "<div>\n",
              "<style scoped>\n",
              "    .dataframe tbody tr th:only-of-type {\n",
              "        vertical-align: middle;\n",
              "    }\n",
              "\n",
              "    .dataframe tbody tr th {\n",
              "        vertical-align: top;\n",
              "    }\n",
              "\n",
              "    .dataframe thead th {\n",
              "        text-align: right;\n",
              "    }\n",
              "</style>\n",
              "<table border=\"1\" class=\"dataframe\">\n",
              "  <thead>\n",
              "    <tr style=\"text-align: right;\">\n",
              "      <th>predict</th>\n",
              "      <th>0</th>\n",
              "      <th>1</th>\n",
              "      <th>2</th>\n",
              "      <th>3</th>\n",
              "      <th>4</th>\n",
              "      <th>5</th>\n",
              "      <th>6</th>\n",
              "      <th>7</th>\n",
              "      <th>8</th>\n",
              "      <th>9</th>\n",
              "    </tr>\n",
              "    <tr>\n",
              "      <th>label</th>\n",
              "      <th></th>\n",
              "      <th></th>\n",
              "      <th></th>\n",
              "      <th></th>\n",
              "      <th></th>\n",
              "      <th></th>\n",
              "      <th></th>\n",
              "      <th></th>\n",
              "      <th></th>\n",
              "      <th></th>\n",
              "    </tr>\n",
              "  </thead>\n",
              "  <tbody>\n",
              "    <tr>\n",
              "      <th>0</th>\n",
              "      <td>807</td>\n",
              "      <td>3</td>\n",
              "      <td>56</td>\n",
              "      <td>15</td>\n",
              "      <td>15</td>\n",
              "      <td>2</td>\n",
              "      <td>19</td>\n",
              "      <td>7</td>\n",
              "      <td>59</td>\n",
              "      <td>17</td>\n",
              "    </tr>\n",
              "    <tr>\n",
              "      <th>1</th>\n",
              "      <td>21</td>\n",
              "      <td>820</td>\n",
              "      <td>18</td>\n",
              "      <td>12</td>\n",
              "      <td>6</td>\n",
              "      <td>9</td>\n",
              "      <td>15</td>\n",
              "      <td>8</td>\n",
              "      <td>28</td>\n",
              "      <td>63</td>\n",
              "    </tr>\n",
              "    <tr>\n",
              "      <th>2</th>\n",
              "      <td>61</td>\n",
              "      <td>1</td>\n",
              "      <td>614</td>\n",
              "      <td>44</td>\n",
              "      <td>112</td>\n",
              "      <td>62</td>\n",
              "      <td>74</td>\n",
              "      <td>20</td>\n",
              "      <td>9</td>\n",
              "      <td>3</td>\n",
              "    </tr>\n",
              "    <tr>\n",
              "      <th>3</th>\n",
              "      <td>15</td>\n",
              "      <td>4</td>\n",
              "      <td>98</td>\n",
              "      <td>537</td>\n",
              "      <td>55</td>\n",
              "      <td>167</td>\n",
              "      <td>87</td>\n",
              "      <td>19</td>\n",
              "      <td>11</td>\n",
              "      <td>7</td>\n",
              "    </tr>\n",
              "    <tr>\n",
              "      <th>4</th>\n",
              "      <td>17</td>\n",
              "      <td>1</td>\n",
              "      <td>69</td>\n",
              "      <td>48</td>\n",
              "      <td>748</td>\n",
              "      <td>27</td>\n",
              "      <td>58</td>\n",
              "      <td>23</td>\n",
              "      <td>9</td>\n",
              "      <td>0</td>\n",
              "    </tr>\n",
              "    <tr>\n",
              "      <th>5</th>\n",
              "      <td>11</td>\n",
              "      <td>1</td>\n",
              "      <td>69</td>\n",
              "      <td>156</td>\n",
              "      <td>48</td>\n",
              "      <td>640</td>\n",
              "      <td>36</td>\n",
              "      <td>32</td>\n",
              "      <td>5</td>\n",
              "      <td>2</td>\n",
              "    </tr>\n",
              "    <tr>\n",
              "      <th>6</th>\n",
              "      <td>2</td>\n",
              "      <td>4</td>\n",
              "      <td>38</td>\n",
              "      <td>36</td>\n",
              "      <td>21</td>\n",
              "      <td>16</td>\n",
              "      <td>878</td>\n",
              "      <td>2</td>\n",
              "      <td>3</td>\n",
              "      <td>0</td>\n",
              "    </tr>\n",
              "    <tr>\n",
              "      <th>7</th>\n",
              "      <td>14</td>\n",
              "      <td>1</td>\n",
              "      <td>42</td>\n",
              "      <td>44</td>\n",
              "      <td>70</td>\n",
              "      <td>60</td>\n",
              "      <td>12</td>\n",
              "      <td>751</td>\n",
              "      <td>4</td>\n",
              "      <td>2</td>\n",
              "    </tr>\n",
              "    <tr>\n",
              "      <th>8</th>\n",
              "      <td>47</td>\n",
              "      <td>24</td>\n",
              "      <td>27</td>\n",
              "      <td>18</td>\n",
              "      <td>9</td>\n",
              "      <td>13</td>\n",
              "      <td>9</td>\n",
              "      <td>1</td>\n",
              "      <td>842</td>\n",
              "      <td>10</td>\n",
              "    </tr>\n",
              "    <tr>\n",
              "      <th>9</th>\n",
              "      <td>46</td>\n",
              "      <td>87</td>\n",
              "      <td>17</td>\n",
              "      <td>23</td>\n",
              "      <td>3</td>\n",
              "      <td>14</td>\n",
              "      <td>15</td>\n",
              "      <td>18</td>\n",
              "      <td>28</td>\n",
              "      <td>749</td>\n",
              "    </tr>\n",
              "  </tbody>\n",
              "</table>\n",
              "</div>"
            ],
            "text/plain": [
              "predict    0    1    2    3    4    5    6    7    8    9\n",
              "label                                                    \n",
              "0        807    3   56   15   15    2   19    7   59   17\n",
              "1         21  820   18   12    6    9   15    8   28   63\n",
              "2         61    1  614   44  112   62   74   20    9    3\n",
              "3         15    4   98  537   55  167   87   19   11    7\n",
              "4         17    1   69   48  748   27   58   23    9    0\n",
              "5         11    1   69  156   48  640   36   32    5    2\n",
              "6          2    4   38   36   21   16  878    2    3    0\n",
              "7         14    1   42   44   70   60   12  751    4    2\n",
              "8         47   24   27   18    9   13    9    1  842   10\n",
              "9         46   87   17   23    3   14   15   18   28  749"
            ]
          },
          "metadata": {
            "tags": []
          },
          "execution_count": 56
        }
      ]
    },
    {
      "metadata": {
        "id": "IyV6iCy3wPUX",
        "colab_type": "code",
        "colab": {
          "base_uri": "https://localhost:8080/",
          "height": 35
        },
        "outputId": "1edd833c-ca71-46f3-85f1-461605f5c80e"
      },
      "cell_type": "code",
      "source": [
        "print(label_dict)"
      ],
      "execution_count": 57,
      "outputs": [
        {
          "output_type": "stream",
          "text": [
            "{0: 'airplane', 1: 'automobile', 2: 'bird', 3: 'cat', 4: 'deer', 5: 'dog', 6: 'frog', 7: 'horse', 8: 'ship', 9: 'truck'}\n"
          ],
          "name": "stdout"
        }
      ]
    }
  ]
}